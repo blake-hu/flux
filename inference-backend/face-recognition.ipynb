{
 "cells": [
  {
   "cell_type": "markdown",
   "metadata": {},
   "source": [
    "Given an image of a face, detect the face, draw a bounding box, and generate an embedding unique to the face"
   ]
  },
  {
   "cell_type": "code",
   "execution_count": 1,
   "metadata": {},
   "outputs": [],
   "source": [
    "from deepface import DeepFace\n",
    "import cv2\n",
    "import os\n",
    "import shutil\n",
    "# import numpy as np\n",
    "import matplotlib.pyplot as plt"
   ]
  },
  {
   "cell_type": "code",
   "execution_count": 2,
   "metadata": {},
   "outputs": [],
   "source": [
    "input_video = \"v.mp4\" # Replace with path of input video\n",
    "output_directory1 = \"videoframes_raw\"\n",
    "output_directory2 = \"videoframes_cropped\""
   ]
  },
  {
   "cell_type": "code",
   "execution_count": 3,
   "metadata": {},
   "outputs": [
    {
     "name": "stdout",
     "output_type": "stream",
     "text": [
      "Video frames saved in 'videoframes_raw'\n"
     ]
    }
   ],
   "source": [
    "# Split video into frames in the videoframes directory\n",
    "# Runtime: ~60 seconds\n",
    "\n",
    "# Delete directory if it already exists and make a new one\n",
    "if os.path.exists(output_directory1):\n",
    "   shutil.rmtree(output_directory1)\n",
    "os.makedirs(output_directory1)\n",
    "\n",
    "vidcap = cv2.VideoCapture(input_video)\n",
    "\n",
    "if vidcap.isOpened():\n",
    "  frame_count = 0\n",
    "\n",
    "  while True:\n",
    "      ret, frame = vidcap.read()\n",
    "      \n",
    "      if not ret:\n",
    "          break\n",
    "\n",
    "      # Save each frame as an image in the output folder\n",
    "      frame_name = f\"frame_{frame_count:04d}.jpg\"\n",
    "      frame_path = os.path.join(output_directory1, frame_name)\n",
    "      cv2.imwrite(frame_path, frame)\n",
    "\n",
    "      frame_count += 1\n",
    "\n",
    "  vidcap.release()\n",
    "\n",
    "  print(f\"Video frames saved in '{output_directory1}'\")"
   ]
  },
  {
   "cell_type": "code",
   "execution_count": 4,
   "metadata": {},
   "outputs": [
    {
     "name": "stdout",
     "output_type": "stream",
     "text": [
      "Couldn't detect face in frame videoframes_raw/frame_0095.jpg\n"
     ]
    }
   ],
   "source": [
    "#CONVERT FRAMES INTO CROPPED FRAMES \n",
    "\n",
    "for filename in sorted(os.listdir(output_directory1)):\n",
    "    frame_path = os.path.join(output_directory1, filename)\n",
    "    \n",
    "    if os.path.isfile(frame_path):  # Check if it's a file (not a subdirectory)\n",
    "        #face detection and alignment\n",
    "        img = cv2.imread(frame_path)\n",
    "\n",
    "        try: #skip frame if can't detect face\n",
    "            face_objs = DeepFace.extract_faces(img_path = frame_path, \n",
    "                    target_size = (224, 224)\n",
    "            )\n",
    "        except:\n",
    "            print(\"Couldn't detect face in frame \" + frame_path)\n",
    "\n",
    "            \n",
    "        face = face_objs[0]['facial_area']\n",
    "        x,y,w,h = face['x'],face['y'],face['w'],face['h']\n",
    "\n",
    "        img = img[y:y+h, x:x+w]\n",
    "\n",
    "    # Save each frame as an image in the output folder\n",
    "        frame_name = f\"frame_{frame_count:04d}.jpg\"\n",
    "        frame_path = os.path.join(output_directory2, filename)\n",
    "        cv2.imwrite(frame_path, img)\n",
    "\n"
   ]
  }
 ],
 "metadata": {
  "kernelspec": {
   "display_name": "ieee",
   "language": "python",
   "name": "python3"
  },
  "language_info": {
   "codemirror_mode": {
    "name": "ipython",
    "version": 3
   },
   "file_extension": ".py",
   "mimetype": "text/x-python",
   "name": "python",
   "nbconvert_exporter": "python",
   "pygments_lexer": "ipython3",
   "version": "3.9.19"
  }
 },
 "nbformat": 4,
 "nbformat_minor": 2
}
